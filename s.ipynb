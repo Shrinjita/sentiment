{
 "cells": [
  {
   "cell_type": "code",
   "execution_count": null,
   "metadata": {},
   "outputs": [],
   "source": [
    "import pandas as pd\n",
    "from textblob import TextBlob\n",
    "\n",
    "# Load the CSV file into a DataFrame\n",
    "df = pd.read_csv(\"data.csv\")\n",
    "\n",
    "# Function to get sentiment label\n",
    "def get_sentiment(polarity):\n",
    "    if polarity > 0:\n",
    "        return \"positive\"\n",
    "    elif polarity < 0:\n",
    "        return \"negative\"\n",
    "    else:\n",
    "        return \"neutral\"\n",
    "\n",
    "# Perform sentiment analysis and add sentiment column to the DataFrame\n",
    "df['sentiment'] = df['text'].apply(lambda text: get_sentiment(TextBlob(text).sentiment.polarity))\n",
    "\n",
    "# Save the DataFrame with sentiment analysis results to a new CSV file\n",
    "df.to_csv(\"reviews_with_sentiment.csv\", index=False)\n"
   ]
  }
 ],
 "metadata": {
  "language_info": {
   "name": "python"
  },
  "orig_nbformat": 4
 },
 "nbformat": 4,
 "nbformat_minor": 2
}
